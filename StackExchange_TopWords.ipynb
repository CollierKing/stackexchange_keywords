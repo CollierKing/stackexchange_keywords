{
 "cells": [
  {
   "cell_type": "markdown",
   "metadata": {},
   "source": [
    "### Pulls Topic Words by StackExchange Site"
   ]
  },
  {
   "cell_type": "code",
   "execution_count": 71,
   "metadata": {},
   "outputs": [],
   "source": [
    "import pandas as pd\n",
    "import json\n",
    "import requests\n",
    "pd.set_option('display.max_colwidth', -1)"
   ]
  },
  {
   "cell_type": "code",
   "execution_count": null,
   "metadata": {
    "collapsed": true
   },
   "outputs": [],
   "source": []
  },
  {
   "cell_type": "code",
   "execution_count": 59,
   "metadata": {
    "collapsed": true
   },
   "outputs": [],
   "source": [
    "topic_list = [\"economics\",\"ai\",\"pm\",\"quant\",\"startups\",\"cs\",\"stats\"]"
   ]
  },
  {
   "cell_type": "code",
   "execution_count": 145,
   "metadata": {
    "collapsed": true
   },
   "outputs": [],
   "source": [
    "base_url = \"https://api.stackexchange.com/2.2/tags?order=desc&sort=popular&site=\""
   ]
  },
  {
   "cell_type": "code",
   "execution_count": 148,
   "metadata": {},
   "outputs": [],
   "source": [
    "for idx,topic in enumerate(topic_list):\n",
    "    base_url_q = base_url + topic\n",
    "    obj = requests.get(base_url_q).json() \n",
    "    words_df = pd.DataFrame.from_dict(obj)\n",
    "    if idx == 0:\n",
    "        words_all = words_df\n",
    "    else:\n",
    "        words_all = pd.concat([words_all,words_df])"
   ]
  },
  {
   "cell_type": "code",
   "execution_count": 150,
   "metadata": {},
   "outputs": [],
   "source": [
    "words_all['items'] = words_all['items'].astype(str)\n",
    "words_all['text_new'] = words_all['items'].str.split(',').str[0]\n",
    "words_all['text_new'] = words_all['text_new'].str.replace(\"{'name': '\",\"\")\n",
    "words_all['text_new'] = words_all['text_new'].str.replace(\"'\",\"\")\n",
    "words_all['text_new'] = words_all['text_new'].str.replace(\"-\",\" \")"
   ]
  },
  {
   "cell_type": "code",
   "execution_count": 152,
   "metadata": {},
   "outputs": [],
   "source": [
    "words_all_se = words_all['text_new']"
   ]
  },
  {
   "cell_type": "markdown",
   "metadata": {},
   "source": [
    "### Pulls saved top skills query"
   ]
  },
  {
   "cell_type": "code",
   "execution_count": 154,
   "metadata": {
    "collapsed": true
   },
   "outputs": [],
   "source": [
    "se_top_words = pd.read_csv(\"https://data.stackexchange.com/stackoverflow/csv/903268/QueryResults.csv\")\n",
    "se_top_words = se_top_words['TagName']\n",
    "words_all_se = pd.concat([words_all_se,se_top_words],axis=0)\n",
    "words_all_se = words_all_se.str.replace(\"-\", \" \")\n",
    "words_all_se = words_all_se.str.replace(\".\", \" \")"
   ]
  },
  {
   "cell_type": "markdown",
   "metadata": {},
   "source": [
    "### Explort"
   ]
  },
  {
   "cell_type": "code",
   "execution_count": 164,
   "metadata": {},
   "outputs": [],
   "source": [
    "dir = \"/home/collier/Dropbox/Skills/Python/Projects/Jobs/stackexchange_keywords/\"\n",
    "words_all_se.to_csv(dir+\"stack_exchange_keywords.csv\")"
   ]
  },
  {
   "cell_type": "code",
   "execution_count": null,
   "metadata": {
    "collapsed": true
   },
   "outputs": [],
   "source": []
  }
 ],
 "metadata": {
  "kernelspec": {
   "display_name": "Python 3",
   "language": "python",
   "name": "python3"
  },
  "language_info": {
   "codemirror_mode": {
    "name": "ipython",
    "version": 3
   },
   "file_extension": ".py",
   "mimetype": "text/x-python",
   "name": "python",
   "nbconvert_exporter": "python",
   "pygments_lexer": "ipython3",
   "version": "3.5.3"
  },
  "toc": {
   "colors": {
    "hover_highlight": "#DAA520",
    "navigate_num": "#000000",
    "navigate_text": "#333333",
    "running_highlight": "#FF0000",
    "selected_highlight": "#FFD700",
    "sidebar_border": "#EEEEEE",
    "wrapper_background": "#FFFFFF"
   },
   "moveMenuLeft": true,
   "nav_menu": {
    "height": "80px",
    "width": "252px"
   },
   "navigate_menu": true,
   "number_sections": true,
   "sideBar": true,
   "threshold": 4,
   "toc_cell": false,
   "toc_section_display": "block",
   "toc_window_display": true,
   "widenNotebook": false
  }
 },
 "nbformat": 4,
 "nbformat_minor": 2
}
